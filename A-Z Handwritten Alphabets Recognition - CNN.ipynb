{
 "cells": [
  {
   "cell_type": "code",
   "execution_count": 2,
   "id": "f4375f7a",
   "metadata": {},
   "outputs": [],
   "source": [
    "import pandas as pd\n",
    "import matplotlib.pyplot as plt"
   ]
  },
  {
   "cell_type": "code",
   "execution_count": 3,
   "id": "04ff48ec",
   "metadata": {},
   "outputs": [],
   "source": [
    "df = pd.read_csv('../../datasets/Alphabets Recognizer/A_Z Handwritten Data.csv')"
   ]
  },
  {
   "cell_type": "code",
   "execution_count": 4,
   "id": "23637eda",
   "metadata": {},
   "outputs": [
    {
     "data": {
      "text/html": [
       "<div>\n",
       "<style scoped>\n",
       "    .dataframe tbody tr th:only-of-type {\n",
       "        vertical-align: middle;\n",
       "    }\n",
       "\n",
       "    .dataframe tbody tr th {\n",
       "        vertical-align: top;\n",
       "    }\n",
       "\n",
       "    .dataframe thead th {\n",
       "        text-align: right;\n",
       "    }\n",
       "</style>\n",
       "<table border=\"1\" class=\"dataframe\">\n",
       "  <thead>\n",
       "    <tr style=\"text-align: right;\">\n",
       "      <th></th>\n",
       "      <th>0</th>\n",
       "      <th>0.1</th>\n",
       "      <th>0.2</th>\n",
       "      <th>0.3</th>\n",
       "      <th>0.4</th>\n",
       "      <th>0.5</th>\n",
       "      <th>0.6</th>\n",
       "      <th>0.7</th>\n",
       "      <th>0.8</th>\n",
       "      <th>0.9</th>\n",
       "      <th>...</th>\n",
       "      <th>0.639</th>\n",
       "      <th>0.640</th>\n",
       "      <th>0.641</th>\n",
       "      <th>0.642</th>\n",
       "      <th>0.643</th>\n",
       "      <th>0.644</th>\n",
       "      <th>0.645</th>\n",
       "      <th>0.646</th>\n",
       "      <th>0.647</th>\n",
       "      <th>0.648</th>\n",
       "    </tr>\n",
       "  </thead>\n",
       "  <tbody>\n",
       "    <tr>\n",
       "      <th>0</th>\n",
       "      <td>0</td>\n",
       "      <td>0</td>\n",
       "      <td>0</td>\n",
       "      <td>0</td>\n",
       "      <td>0</td>\n",
       "      <td>0</td>\n",
       "      <td>0</td>\n",
       "      <td>0</td>\n",
       "      <td>0</td>\n",
       "      <td>0</td>\n",
       "      <td>...</td>\n",
       "      <td>0</td>\n",
       "      <td>0</td>\n",
       "      <td>0</td>\n",
       "      <td>0</td>\n",
       "      <td>0</td>\n",
       "      <td>0</td>\n",
       "      <td>0</td>\n",
       "      <td>0</td>\n",
       "      <td>0</td>\n",
       "      <td>0</td>\n",
       "    </tr>\n",
       "    <tr>\n",
       "      <th>1</th>\n",
       "      <td>0</td>\n",
       "      <td>0</td>\n",
       "      <td>0</td>\n",
       "      <td>0</td>\n",
       "      <td>0</td>\n",
       "      <td>0</td>\n",
       "      <td>0</td>\n",
       "      <td>0</td>\n",
       "      <td>0</td>\n",
       "      <td>0</td>\n",
       "      <td>...</td>\n",
       "      <td>0</td>\n",
       "      <td>0</td>\n",
       "      <td>0</td>\n",
       "      <td>0</td>\n",
       "      <td>0</td>\n",
       "      <td>0</td>\n",
       "      <td>0</td>\n",
       "      <td>0</td>\n",
       "      <td>0</td>\n",
       "      <td>0</td>\n",
       "    </tr>\n",
       "    <tr>\n",
       "      <th>2</th>\n",
       "      <td>0</td>\n",
       "      <td>0</td>\n",
       "      <td>0</td>\n",
       "      <td>0</td>\n",
       "      <td>0</td>\n",
       "      <td>0</td>\n",
       "      <td>0</td>\n",
       "      <td>0</td>\n",
       "      <td>0</td>\n",
       "      <td>0</td>\n",
       "      <td>...</td>\n",
       "      <td>0</td>\n",
       "      <td>0</td>\n",
       "      <td>0</td>\n",
       "      <td>0</td>\n",
       "      <td>0</td>\n",
       "      <td>0</td>\n",
       "      <td>0</td>\n",
       "      <td>0</td>\n",
       "      <td>0</td>\n",
       "      <td>0</td>\n",
       "    </tr>\n",
       "    <tr>\n",
       "      <th>3</th>\n",
       "      <td>0</td>\n",
       "      <td>0</td>\n",
       "      <td>0</td>\n",
       "      <td>0</td>\n",
       "      <td>0</td>\n",
       "      <td>0</td>\n",
       "      <td>0</td>\n",
       "      <td>0</td>\n",
       "      <td>0</td>\n",
       "      <td>0</td>\n",
       "      <td>...</td>\n",
       "      <td>0</td>\n",
       "      <td>0</td>\n",
       "      <td>0</td>\n",
       "      <td>0</td>\n",
       "      <td>0</td>\n",
       "      <td>0</td>\n",
       "      <td>0</td>\n",
       "      <td>0</td>\n",
       "      <td>0</td>\n",
       "      <td>0</td>\n",
       "    </tr>\n",
       "    <tr>\n",
       "      <th>4</th>\n",
       "      <td>0</td>\n",
       "      <td>0</td>\n",
       "      <td>0</td>\n",
       "      <td>0</td>\n",
       "      <td>0</td>\n",
       "      <td>0</td>\n",
       "      <td>0</td>\n",
       "      <td>0</td>\n",
       "      <td>0</td>\n",
       "      <td>0</td>\n",
       "      <td>...</td>\n",
       "      <td>0</td>\n",
       "      <td>0</td>\n",
       "      <td>0</td>\n",
       "      <td>0</td>\n",
       "      <td>0</td>\n",
       "      <td>0</td>\n",
       "      <td>0</td>\n",
       "      <td>0</td>\n",
       "      <td>0</td>\n",
       "      <td>0</td>\n",
       "    </tr>\n",
       "  </tbody>\n",
       "</table>\n",
       "<p>5 rows × 785 columns</p>\n",
       "</div>"
      ],
      "text/plain": [
       "   0  0.1  0.2  0.3  0.4  0.5  0.6  0.7  0.8  0.9  ...  0.639  0.640  0.641  \\\n",
       "0  0    0    0    0    0    0    0    0    0    0  ...      0      0      0   \n",
       "1  0    0    0    0    0    0    0    0    0    0  ...      0      0      0   \n",
       "2  0    0    0    0    0    0    0    0    0    0  ...      0      0      0   \n",
       "3  0    0    0    0    0    0    0    0    0    0  ...      0      0      0   \n",
       "4  0    0    0    0    0    0    0    0    0    0  ...      0      0      0   \n",
       "\n",
       "   0.642  0.643  0.644  0.645  0.646  0.647  0.648  \n",
       "0      0      0      0      0      0      0      0  \n",
       "1      0      0      0      0      0      0      0  \n",
       "2      0      0      0      0      0      0      0  \n",
       "3      0      0      0      0      0      0      0  \n",
       "4      0      0      0      0      0      0      0  \n",
       "\n",
       "[5 rows x 785 columns]"
      ]
     },
     "execution_count": 4,
     "metadata": {},
     "output_type": "execute_result"
    }
   ],
   "source": [
    "df.head()"
   ]
  },
  {
   "cell_type": "code",
   "execution_count": 5,
   "id": "7e683a1b",
   "metadata": {},
   "outputs": [
    {
     "data": {
      "text/plain": [
       "array([ 0,  1,  2,  3,  4,  5,  6,  7,  8,  9, 10, 11, 12, 13, 14, 15, 16,\n",
       "       17, 18, 19, 20, 21, 22, 23, 24, 25], dtype=int64)"
      ]
     },
     "execution_count": 5,
     "metadata": {},
     "output_type": "execute_result"
    }
   ],
   "source": [
    "df['0'].unique()"
   ]
  },
  {
   "cell_type": "code",
   "execution_count": 6,
   "id": "cf230200",
   "metadata": {},
   "outputs": [],
   "source": [
    "y = df['0']\n",
    "X = df.drop('0',axis=1)"
   ]
  },
  {
   "cell_type": "code",
   "execution_count": 7,
   "id": "33b7a9a9",
   "metadata": {},
   "outputs": [
    {
     "data": {
      "text/plain": [
       "(372450, 784)"
      ]
     },
     "execution_count": 7,
     "metadata": {},
     "output_type": "execute_result"
    }
   ],
   "source": [
    "X.shape"
   ]
  },
  {
   "cell_type": "code",
   "execution_count": 8,
   "id": "37b5188b",
   "metadata": {},
   "outputs": [],
   "source": [
    "#img = X.iloc[3,:].values.reshape(28,28)\n",
    "#plt.imshow(img)"
   ]
  },
  {
   "cell_type": "code",
   "execution_count": 9,
   "id": "0a872831",
   "metadata": {},
   "outputs": [],
   "source": [
    "X = X/255 # scaling"
   ]
  },
  {
   "cell_type": "code",
   "execution_count": 10,
   "id": "980c6486",
   "metadata": {},
   "outputs": [
    {
     "name": "stdout",
     "output_type": "stream",
     "text": [
      "WARNING:tensorflow:From C:\\Users\\DELL\\anaconda3\\envs\\dsml_26_env\\lib\\site-packages\\keras\\src\\losses.py:2976: The name tf.losses.sparse_softmax_cross_entropy is deprecated. Please use tf.compat.v1.losses.sparse_softmax_cross_entropy instead.\n",
      "\n"
     ]
    }
   ],
   "source": [
    "from tensorflow.keras.utils import to_categorical"
   ]
  },
  {
   "cell_type": "code",
   "execution_count": 11,
   "id": "b875e9c5",
   "metadata": {},
   "outputs": [
    {
     "data": {
      "text/plain": [
       "(372450, 26)"
      ]
     },
     "execution_count": 11,
     "metadata": {},
     "output_type": "execute_result"
    }
   ],
   "source": [
    "ya = to_categorical(y,num_classes=26)\n",
    "ya.shape"
   ]
  },
  {
   "cell_type": "code",
   "execution_count": 12,
   "id": "bf258389",
   "metadata": {},
   "outputs": [
    {
     "data": {
      "text/plain": [
       "(372450, 784)"
      ]
     },
     "execution_count": 12,
     "metadata": {},
     "output_type": "execute_result"
    }
   ],
   "source": [
    "X.shape"
   ]
  },
  {
   "cell_type": "code",
   "execution_count": 14,
   "id": "72a6635d",
   "metadata": {},
   "outputs": [
    {
     "data": {
      "text/plain": [
       "(372450, 28, 28, 1)"
      ]
     },
     "execution_count": 14,
     "metadata": {},
     "output_type": "execute_result"
    }
   ],
   "source": [
    "X = X.values.reshape(372450,28,28,1)\n",
    "X.shape"
   ]
  },
  {
   "cell_type": "markdown",
   "id": "26911043",
   "metadata": {},
   "source": [
    "# Model Building"
   ]
  },
  {
   "cell_type": "code",
   "execution_count": 15,
   "id": "ff03ac05",
   "metadata": {},
   "outputs": [],
   "source": [
    "from tensorflow.keras.layers import Dense,Conv2D,MaxPool2D,Flatten\n",
    "from tensorflow.keras.models import Sequential"
   ]
  },
  {
   "cell_type": "code",
   "execution_count": 16,
   "id": "60888855",
   "metadata": {},
   "outputs": [
    {
     "name": "stdout",
     "output_type": "stream",
     "text": [
      "WARNING:tensorflow:From C:\\Users\\DELL\\anaconda3\\envs\\dsml_26_env\\lib\\site-packages\\keras\\src\\backend.py:873: The name tf.get_default_graph is deprecated. Please use tf.compat.v1.get_default_graph instead.\n",
      "\n",
      "WARNING:tensorflow:From C:\\Users\\DELL\\anaconda3\\envs\\dsml_26_env\\lib\\site-packages\\keras\\src\\layers\\pooling\\max_pooling2d.py:161: The name tf.nn.max_pool is deprecated. Please use tf.nn.max_pool2d instead.\n",
      "\n",
      "WARNING:tensorflow:From C:\\Users\\DELL\\anaconda3\\envs\\dsml_26_env\\lib\\site-packages\\keras\\src\\optimizers\\__init__.py:309: The name tf.train.Optimizer is deprecated. Please use tf.compat.v1.train.Optimizer instead.\n",
      "\n"
     ]
    }
   ],
   "source": [
    "model = Sequential()\n",
    "model.add(Conv2D(16,(3,3),activation='relu', input_shape=(28,28,1)))\n",
    "model.add(MaxPool2D())\n",
    "model.add(Conv2D(32,(3,3),activation='relu'))\n",
    "model.add(MaxPool2D())\n",
    "model.add(Flatten())\n",
    "model.add(Dense(104,activation='relu'))\n",
    "model.add(Dense(52,activation='relu'))\n",
    "model.add(Dense(52,activation='relu'))\n",
    "model.add(Dense(26,activation='softmax'))\n",
    "\n",
    "model.compile(loss='categorical_crossentropy', metrics=['accuracy'])"
   ]
  },
  {
   "cell_type": "code",
   "execution_count": 17,
   "id": "baa7f35b",
   "metadata": {},
   "outputs": [
    {
     "name": "stdout",
     "output_type": "stream",
     "text": [
      "Model: \"sequential\"\n",
      "_________________________________________________________________\n",
      " Layer (type)                Output Shape              Param #   \n",
      "=================================================================\n",
      " conv2d (Conv2D)             (None, 26, 26, 16)        160       \n",
      "                                                                 \n",
      " max_pooling2d (MaxPooling2  (None, 13, 13, 16)        0         \n",
      " D)                                                              \n",
      "                                                                 \n",
      " conv2d_1 (Conv2D)           (None, 11, 11, 32)        4640      \n",
      "                                                                 \n",
      " max_pooling2d_1 (MaxPoolin  (None, 5, 5, 32)          0         \n",
      " g2D)                                                            \n",
      "                                                                 \n",
      " flatten (Flatten)           (None, 800)               0         \n",
      "                                                                 \n",
      " dense (Dense)               (None, 104)               83304     \n",
      "                                                                 \n",
      " dense_1 (Dense)             (None, 52)                5460      \n",
      "                                                                 \n",
      " dense_2 (Dense)             (None, 52)                2756      \n",
      "                                                                 \n",
      " dense_3 (Dense)             (None, 26)                1378      \n",
      "                                                                 \n",
      "=================================================================\n",
      "Total params: 97698 (381.63 KB)\n",
      "Trainable params: 97698 (381.63 KB)\n",
      "Non-trainable params: 0 (0.00 Byte)\n",
      "_________________________________________________________________\n"
     ]
    }
   ],
   "source": [
    "model.summary()"
   ]
  },
  {
   "cell_type": "code",
   "execution_count": 18,
   "id": "2f602e20",
   "metadata": {},
   "outputs": [
    {
     "name": "stdout",
     "output_type": "stream",
     "text": [
      "Epoch 1/10\n",
      "WARNING:tensorflow:From C:\\Users\\DELL\\anaconda3\\envs\\dsml_26_env\\lib\\site-packages\\keras\\src\\utils\\tf_utils.py:492: The name tf.ragged.RaggedTensorValue is deprecated. Please use tf.compat.v1.ragged.RaggedTensorValue instead.\n",
      "\n",
      "WARNING:tensorflow:From C:\\Users\\DELL\\anaconda3\\envs\\dsml_26_env\\lib\\site-packages\\keras\\src\\engine\\base_layer_utils.py:384: The name tf.executing_eagerly_outside_functions is deprecated. Please use tf.compat.v1.executing_eagerly_outside_functions instead.\n",
      "\n",
      "2910/2910 [==============================] - 73s 23ms/step - loss: 0.2127 - accuracy: 0.9391\n",
      "Epoch 2/10\n",
      "2910/2910 [==============================] - 66s 23ms/step - loss: 0.0616 - accuracy: 0.9826\n",
      "Epoch 3/10\n",
      "2910/2910 [==============================] - 73s 25ms/step - loss: 0.0451 - accuracy: 0.9874\n",
      "Epoch 4/10\n",
      "2910/2910 [==============================] - 63s 22ms/step - loss: 0.0358 - accuracy: 0.9898\n",
      "Epoch 5/10\n",
      "2910/2910 [==============================] - 58s 20ms/step - loss: 0.0298 - accuracy: 0.9913\n",
      "Epoch 6/10\n",
      "2910/2910 [==============================] - 58s 20ms/step - loss: 0.0252 - accuracy: 0.9927\n",
      "Epoch 7/10\n",
      "2910/2910 [==============================] - 58s 20ms/step - loss: 0.0215 - accuracy: 0.9937\n",
      "Epoch 8/10\n",
      "2910/2910 [==============================] - 61s 21ms/step - loss: 0.0184 - accuracy: 0.9945\n",
      "Epoch 9/10\n",
      "2910/2910 [==============================] - 65s 22ms/step - loss: 0.0162 - accuracy: 0.9951\n",
      "Epoch 10/10\n",
      "2910/2910 [==============================] - 67s 23ms/step - loss: 0.0141 - accuracy: 0.9957\n"
     ]
    },
    {
     "data": {
      "text/plain": [
       "<keras.src.callbacks.History at 0x2302dee9880>"
      ]
     },
     "execution_count": 18,
     "metadata": {},
     "output_type": "execute_result"
    }
   ],
   "source": [
    "model.fit(X,ya,batch_size=128,epochs=10)"
   ]
  },
  {
   "cell_type": "code",
   "execution_count": 19,
   "id": "04c1b6f6",
   "metadata": {},
   "outputs": [
    {
     "data": {
      "text/plain": [
       "0    0\n",
       "1    0\n",
       "2    0\n",
       "3    0\n",
       "4    0\n",
       "Name: 0, dtype: int64"
      ]
     },
     "execution_count": 19,
     "metadata": {},
     "output_type": "execute_result"
    }
   ],
   "source": [
    "y[:5]"
   ]
  },
  {
   "cell_type": "code",
   "execution_count": 20,
   "id": "860109c6",
   "metadata": {},
   "outputs": [
    {
     "data": {
      "text/plain": [
       "0"
      ]
     },
     "execution_count": 20,
     "metadata": {},
     "output_type": "execute_result"
    }
   ],
   "source": [
    "img = X[0,:].reshape(1,28,28,1)\n",
    "model.predict_on_batch(img).argmax()"
   ]
  },
  {
   "cell_type": "code",
   "execution_count": 22,
   "id": "bbda137c",
   "metadata": {},
   "outputs": [
    {
     "data": {
      "text/plain": [
       "array([0, 0, 0, 0, 0], dtype=int64)"
      ]
     },
     "execution_count": 22,
     "metadata": {},
     "output_type": "execute_result"
    }
   ],
   "source": [
    "model.predict_on_batch(X[:5,:]).argmax(axis=1)"
   ]
  },
  {
   "cell_type": "markdown",
   "id": "15e510c4",
   "metadata": {},
   "source": [
    "# Predictions on own handwriting"
   ]
  },
  {
   "cell_type": "code",
   "execution_count": 23,
   "id": "210da1d0",
   "metadata": {},
   "outputs": [],
   "source": [
    "import cv2"
   ]
  },
  {
   "cell_type": "code",
   "execution_count": 26,
   "id": "0019ce53",
   "metadata": {},
   "outputs": [],
   "source": [
    "def get_alphabets(filename):\n",
    "    path = '../../datasets/My A-Z Handwritten Alphabets/' + filename\n",
    "    A = cv2.imread(path,0)\n",
    "    A = cv2.resize(A,(28,28))\n",
    "    A = A/255\n",
    "    A = A.reshape(1,28,28,1)\n",
    "    return model.predict_on_batch(A).argmax()"
   ]
  },
  {
   "cell_type": "code",
   "execution_count": 27,
   "id": "48410f60",
   "metadata": {},
   "outputs": [
    {
     "data": {
      "text/plain": [
       "0"
      ]
     },
     "execution_count": 27,
     "metadata": {},
     "output_type": "execute_result"
    }
   ],
   "source": [
    "get_alphabets('A1.jpg')"
   ]
  },
  {
   "cell_type": "code",
   "execution_count": 28,
   "id": "10a99903",
   "metadata": {},
   "outputs": [],
   "source": [
    "import os"
   ]
  },
  {
   "cell_type": "code",
   "execution_count": 33,
   "id": "6db54d14",
   "metadata": {},
   "outputs": [],
   "source": [
    "filenames = os.listdir('../../datasets/My A-Z Handwritten Alphabets/')\n",
    "#filenames"
   ]
  },
  {
   "cell_type": "code",
   "execution_count": 42,
   "id": "6e1a021d",
   "metadata": {},
   "outputs": [],
   "source": [
    "#img = '../../datasets/My A-Z Handwritten Alphabets/P#1.JPG'#.reshape(28,28)\n",
    "#plt.imshow(img)"
   ]
  },
  {
   "cell_type": "code",
   "execution_count": 43,
   "id": "e932879e",
   "metadata": {},
   "outputs": [
    {
     "name": "stdout",
     "output_type": "stream",
     "text": [
      "A1.jpg \t A\n",
      "A2.jpg \t A\n",
      "B1.jpg \t B\n",
      "B2.jpg \t B\n",
      "C1.jpg \t C\n",
      "C2.jpg \t C\n",
      "D1.jpg \t D\n",
      "D2.jpg \t D\n",
      "E1.jpg \t E\n",
      "E2.jpg \t E\n",
      "F1.jpg \t F\n",
      "F2.jpg \t F\n",
      "G1.jpg \t G\n",
      "G2.jpg \t G\n",
      "H1.jpg \t H\n",
      "H2.jpg \t H\n",
      "I1.jpg \t I\n",
      "I2.jpg \t I\n",
      "J1.jpg \t J\n",
      "J2.jpg \t J\n",
      "K1.jpg \t K\n",
      "K2.jpg \t K\n",
      "L1.jpg \t L\n",
      "L2.jpg \t L\n",
      "M1.jpg \t M\n",
      "M2.jpg \t M\n",
      "N1.jpg \t N\n",
      "N2.jpg \t N\n",
      "O1.jpg \t O\n",
      "O2.jpg \t O\n",
      "P#1.jpg \t Y\n",
      "P1.jpg \t P\n",
      "P2.jpg \t P\n",
      "Q1.jpg \t Q\n",
      "Q2.jpg \t Q\n",
      "R1.jpg \t R\n",
      "R2.jpg \t R\n",
      "S#1.jpg \t A\n",
      "S1.jpg \t S\n",
      "S2.jpg \t S\n",
      "S3.jpg \t S\n",
      "S4.jpg \t S\n",
      "S5.jpg \t S\n",
      "S6.jpg \t S\n",
      "S7.jpg \t S\n",
      "T#1.jpg \t Y\n",
      "T1.jpg \t T\n",
      "T2.jpg \t T\n",
      "T3.jpg \t T\n",
      "T4.jpg \t T\n",
      "T5.jpg \t T\n",
      "U1.jpg \t U\n",
      "U2.jpg \t U\n",
      "V1.jpg \t V\n",
      "V2.jpg \t V\n",
      "W1.jpg \t W\n",
      "W2.jpg \t W\n",
      "X1.jpg \t X\n",
      "X2.jpg \t X\n",
      "Y1.jpg \t Y\n",
      "Y2.jpg \t Y\n",
      "Z1.jpg \t Z\n",
      "ZZ.jpg \t Z\n",
      "Score : 60/63 OR 0.9523809523809523\n"
     ]
    }
   ],
   "source": [
    "sc = 0\n",
    "for file in filenames:\n",
    "    ya = file.split('.')[0][0]\n",
    "    yp = chr(65+get_alphabets(file))\n",
    "    if ya == yp:\n",
    "        sc += 1\n",
    "    print(file,'\\t', yp)\n",
    "print(f'Score : {sc}/{len(filenames)} OR {sc/len(filenames)}')"
   ]
  },
  {
   "cell_type": "code",
   "execution_count": null,
   "id": "1809859b",
   "metadata": {},
   "outputs": [],
   "source": [
    "# 1st = Score : 52/60 OR 0.8666666666666667\n",
    "# 2nd = Score : 58/60 OR 0.9666666666666667\n",
    "# CNN = Score : 60/60 OR 1.0"
   ]
  }
 ],
 "metadata": {
  "kernelspec": {
   "display_name": "Python [conda env:dsml_26_env]",
   "language": "python",
   "name": "conda-env-dsml_26_env-py"
  },
  "language_info": {
   "codemirror_mode": {
    "name": "ipython",
    "version": 3
   },
   "file_extension": ".py",
   "mimetype": "text/x-python",
   "name": "python",
   "nbconvert_exporter": "python",
   "pygments_lexer": "ipython3",
   "version": "3.9.0"
  }
 },
 "nbformat": 4,
 "nbformat_minor": 5
}
